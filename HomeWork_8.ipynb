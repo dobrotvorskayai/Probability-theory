{
  "nbformat": 4,
  "nbformat_minor": 0,
  "metadata": {
    "colab": {
      "provenance": []
    },
    "kernelspec": {
      "name": "python3",
      "display_name": "Python 3"
    },
    "language_info": {
      "name": "python"
    }
  },
  "cells": [
    {
      "cell_type": "markdown",
      "source": [
        "1) Даны значения величины заработной платы заемщиков банка (zp) и значения их поведенческого кредитного скоринга (ks):\n",
        "zp = [35, 45, 190, 200, 40, 70, 54, 150, 120, 110],\n",
        "\n",
        "ks = [401, 574, 874, 919, 459, 739, 653, 902, 746, 832].\n",
        "\n",
        "Найдите ковариацию этих двух величин с помощью элементарных действий, а затем с помощью функции cov из numpy\n",
        "\n",
        "Полученные значения должны быть равны.\n",
        "\n",
        "Найдите коэффициент корреляции Пирсона с помощью ковариации и среднеквадратичных отклонений двух признаков, а затем с использованием функций из библиотек numpy и pandas."
      ],
      "metadata": {
        "id": "gLWSsLHVRQet"
      }
    },
    {
      "cell_type": "code",
      "execution_count": 9,
      "metadata": {
        "colab": {
          "base_uri": "https://localhost:8080/",
          "height": 430
        },
        "id": "SffHvziIRGR0",
        "outputId": "4a2cb8f9-29cd-4d2e-ff9d-9dddbc852c36"
      },
      "outputs": [
        {
          "output_type": "display_data",
          "data": {
            "text/plain": [
              "<Figure size 640x480 with 1 Axes>"
            ],
            "image/png": "[encoded data removed]"
          },
          "metadata": {}
        }
      ],
      "source": [
        "import numpy as np\n",
        "import pandas as pd\n",
        "from scipy import stats\n",
        "import matplotlib.pyplot as plt\n",
        "\n",
        "zp = np.array([35, 45, 190, 200, 40, 70, 54, 150, 120, 110])\n",
        "ks = np.array([401, 574, 874, 919, 459, 739, 653, 902, 746, 832])\n",
        "plt.scatter(zp, ks);"
      ]
    },
    {
      "cell_type": "markdown",
      "source": [
        "#Ковариация:"
      ],
      "metadata": {
        "id": "e4ebFrF38uSJ"
      }
    },
    {
      "cell_type": "code",
      "source": [
        "cov_zp_ks = np.mean(zp*ks) - np.mean(zp)*np.mean(ks)\n",
        "cov_zp_ks"
      ],
      "metadata": {
        "colab": {
          "base_uri": "https://localhost:8080/"
        },
        "id": "-j6DEn4T51y9",
        "outputId": "c76be79c-b711-4455-940e-ee82e9e23a8b"
      },
      "execution_count": 17,
      "outputs": [
        {
          "output_type": "execute_result",
          "data": {
            "text/plain": [
              "9157.839999999997"
            ]
          },
          "metadata": {},
          "execution_count": 17
        }
      ]
    },
    {
      "cell_type": "code",
      "source": [
        "np.cov(zp, ks, ddof=0)"
      ],
      "metadata": {
        "colab": {
          "base_uri": "https://localhost:8080/"
        },
        "id": "OOczMq2u73a3",
        "outputId": "00ff5ce9-f291-4da0-942c-34567377b382"
      },
      "execution_count": 18,
      "outputs": [
        {
          "output_type": "execute_result",
          "data": {
            "text/plain": [
              "array([[ 3494.64,  9157.84],\n",
              "       [ 9157.84, 30468.89]])"
            ]
          },
          "metadata": {},
          "execution_count": 18
        }
      ]
    },
    {
      "cell_type": "markdown",
      "source": [
        "# Коэффициент корреляции Пирсона"
      ],
      "metadata": {
        "id": "90Nnc5bD2kGX"
      }
    },
    {
      "cell_type": "code",
      "source": [
        "corr = cov_zp_ks / (np.std(zp) * np.std(ks))\n",
        "corr"
      ],
      "metadata": {
        "colab": {
          "base_uri": "https://localhost:8080/"
        },
        "id": "B79zhrzl91IO",
        "outputId": "7da4a3e0-bf15-4591-8b52-9ee155d7e417"
      },
      "execution_count": 19,
      "outputs": [
        {
          "output_type": "execute_result",
          "data": {
            "text/plain": [
              "0.8874900920739158"
            ]
          },
          "metadata": {},
          "execution_count": 19
        }
      ]
    },
    {
      "cell_type": "code",
      "source": [
        "corr_coef = cov_zp_ks / (np.std(zp, ddof=0) * np.std(ks, ddof=0))\n",
        "corr_coef"
      ],
      "metadata": {
        "colab": {
          "base_uri": "https://localhost:8080/"
        },
        "id": "NNre2N0C-BYa",
        "outputId": "87058bd6-3f78-4b12-fc60-b727c6167bc7"
      },
      "execution_count": 20,
      "outputs": [
        {
          "output_type": "execute_result",
          "data": {
            "text/plain": [
              "0.8874900920739158"
            ]
          },
          "metadata": {},
          "execution_count": 20
        }
      ]
    },
    {
      "cell_type": "code",
      "source": [
        "np.corrcoef(zp, ks)"
      ],
      "metadata": {
        "colab": {
          "base_uri": "https://localhost:8080/"
        },
        "id": "HWWOp4JF3qtI",
        "outputId": "a3e37d85-a2ff-4d77-e277-f53751a048e4"
      },
      "execution_count": null,
      "outputs": [
        {
          "output_type": "execute_result",
          "data": {
            "text/plain": [
              "array([[1.        , 0.88749009],\n",
              "       [0.88749009, 1.        ]])"
            ]
          },
          "metadata": {},
          "execution_count": 2
        }
      ]
    },
    {
      "cell_type": "code",
      "source": [
        "corr_pandas = pd.Series(zp).corr(pd.Series(ks), method='pearson')\n",
        "corr_pandas"
      ],
      "metadata": {
        "colab": {
          "base_uri": "https://localhost:8080/"
        },
        "id": "8A3fPXxh-Orm",
        "outputId": "8402ab94-0453-4553-8d8a-928795b6f7ed"
      },
      "execution_count": 21,
      "outputs": [
        {
          "output_type": "execute_result",
          "data": {
            "text/plain": [
              "0.8874900920739162"
            ]
          },
          "metadata": {},
          "execution_count": 21
        }
      ]
    },
    {
      "cell_type": "markdown",
      "source": [
        "2) Измерены значения IQ выборки студентов,\n",
        "обучающихся в местных технических вузах:\n",
        "\n",
        "131, 125, 115, 122, 131, 115, 107, 99, 125, 111.\n",
        "\n",
        "Известно, что в генеральной совокупности IQ распределен нормально.\n",
        "\n",
        "Найдите доверительный интервал для математического ожидания с надежностью 0.95."
      ],
      "metadata": {
        "id": "LDRcJreX-TM5"
      }
    },
    {
      "cell_type": "code",
      "source": [
        "iq = np.array([131, 125, 115, 122, 131, 115, 107, 99, 125, 111])\n",
        "alpha = 0.05"
      ],
      "metadata": {
        "id": "QOr4cslP-bl7"
      },
      "execution_count": 23,
      "outputs": []
    },
    {
      "cell_type": "code",
      "source": [
        "n = iq.size\n",
        "n"
      ],
      "metadata": {
        "colab": {
          "base_uri": "https://localhost:8080/"
        },
        "id": "GoZPfq-s-2Oz",
        "outputId": "688e196d-7e7b-443b-d478-8048fd800259"
      },
      "execution_count": 25,
      "outputs": [
        {
          "output_type": "execute_result",
          "data": {
            "text/plain": [
              "10"
            ]
          },
          "metadata": {},
          "execution_count": 25
        }
      ]
    },
    {
      "cell_type": "code",
      "source": [
        "std = iq.std(ddof=1)\n",
        "std"
      ],
      "metadata": {
        "colab": {
          "base_uri": "https://localhost:8080/"
        },
        "id": "eoLhEPuY--EA",
        "outputId": "2ab77158-0237-4197-8f2b-42da3d75cc4f"
      },
      "execution_count": 27,
      "outputs": [
        {
          "output_type": "execute_result",
          "data": {
            "text/plain": [
              "10.54566788359614"
            ]
          },
          "metadata": {},
          "execution_count": 27
        }
      ]
    },
    {
      "cell_type": "code",
      "source": [
        "mean = iq.mean()\n",
        "mean"
      ],
      "metadata": {
        "colab": {
          "base_uri": "https://localhost:8080/"
        },
        "id": "6wqJL5L4_CjI",
        "outputId": "57f0d047-a72b-4bc3-c123-20dff8924665"
      },
      "execution_count": 28,
      "outputs": [
        {
          "output_type": "execute_result",
          "data": {
            "text/plain": [
              "118.1"
            ]
          },
          "metadata": {},
          "execution_count": 28
        }
      ]
    },
    {
      "cell_type": "code",
      "source": [
        "t = stats.t.ppf(1 - alpha / 2, n - 1)\n",
        "d = t * std / (n) ** 0.5\n",
        "d,t"
      ],
      "metadata": {
        "colab": {
          "base_uri": "https://localhost:8080/"
        },
        "id": "xqHv3qMQ_OJK",
        "outputId": "f7afbe25-b463-418a-8f44-bf792c49ab34"
      },
      "execution_count": 29,
      "outputs": [
        {
          "output_type": "execute_result",
          "data": {
            "text/plain": [
              "(7.543916348412745, 2.2621571627409915)"
            ]
          },
          "metadata": {},
          "execution_count": 29
        }
      ]
    },
    {
      "cell_type": "code",
      "source": [
        "min = mean - d\n",
        "max = mean + d\n",
        "print(f'>>> Доверительный интервал для математического ожидания с надежностью 0.95 составляет:{min: .2f};{max: .2f}')"
      ],
      "metadata": {
        "colab": {
          "base_uri": "https://localhost:8080/"
        },
        "id": "KNxn2wRB_Pwz",
        "outputId": "4e9fb714-cdb0-4a5f-c492-031ab39b8b48"
      },
      "execution_count": 30,
      "outputs": [
        {
          "output_type": "stream",
          "name": "stdout",
          "text": [
            ">>> Доверительный интервал для математического ожидания с надежностью 0.95 составляет: 110.56; 125.64\n"
          ]
        }
      ]
    },
    {
      "cell_type": "markdown",
      "source": [
        "3) Известно, что рост футболистов в сборной распределен нормально с дисперсией генеральной совокупности, равной 25 кв.см. Объем выборки равен 27, среднее выборочное составляет 174.2. Найдите доверительный интервал для математического ожидания с надежностью 0.95."
      ],
      "metadata": {
        "id": "lPsyoGyP_a15"
      }
    },
    {
      "cell_type": "code",
      "source": [
        "var = 25\n",
        "n = 27\n",
        "mean = 174.2\n",
        "std = (var)**0.5\n",
        "alpha = 0.05\n",
        "z=stats.norm.ppf(1-alpha/2,n-1)\n",
        "d=z*std/(n)**0.5\n",
        "min = mean - d\n",
        "max = mean + d\n",
        "print(f'>>> Доверительный интервал для математического ожидания с надежностью 0.95 составляет:{min: .2f};{max: .2f}')"
      ],
      "metadata": {
        "colab": {
          "base_uri": "https://localhost:8080/"
        },
        "id": "ogeXrWd8_dQm",
        "outputId": "1bc73f37-c3c6-42cd-fd2b-e76bc58a70e4"
      },
      "execution_count": 31,
      "outputs": [
        {
          "output_type": "stream",
          "name": "stdout",
          "text": [
            ">>> Доверительный интервал для математического ожидания с надежностью 0.95 составляет: 147.30; 201.10\n"
          ]
        }
      ]
    }
  ]
}