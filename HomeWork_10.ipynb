{
  "nbformat": 4,
  "nbformat_minor": 0,
  "metadata": {
    "colab": {
      "provenance": []
    },
    "kernelspec": {
      "name": "python3",
      "display_name": "Python 3"
    },
    "language_info": {
      "name": "python"
    }
  },
  "cells": [
    {
      "cell_type": "markdown",
      "source": [
        "Провести дисперсионный анализ для определения того, есть ли различия среднего роста среди взрослых футболистов, хоккеистов и штангистов.\n",
        "Даны значения роста в трех группах случайно выбранных спортсменов:\n",
        "\n",
        "Футболисты: 173, 175, 180, 178, 177, 185, 183, 182.\n",
        "\n",
        "Хоккеисты: 177, 179, 180, 188, 177, 172, 171, 184, 180.\n",
        "\n",
        "Штангисты: 172, 173, 169, 177, 166, 180, 178, 177, 172, 166, 170."
      ],
      "metadata": {
        "id": "ZVP164twx6ng"
      }
    },
    {
      "cell_type": "code",
      "execution_count": 7,
      "metadata": {
        "id": "_AmZ_Byvxjsn"
      },
      "outputs": [],
      "source": [
        "import numpy as np\n",
        "import scipy.stats as stats\n",
        "from scipy import bartlett"
      ]
    },
    {
      "cell_type": "code",
      "source": [
        "x1 = np.array([173, 175, 180, 178, 177, 185, 183, 182])\n",
        "x2 = np.array([177, 179, 180, 188, 177, 172, 171, 184, 180])\n",
        "x3 = np.array([172, 173, 169, 177, 166, 180, 178, 177, 172, 166, 170])"
      ],
      "metadata": {
        "id": "o8m8bzTO0D3B"
      },
      "execution_count": 8,
      "outputs": []
    },
    {
      "cell_type": "code",
      "source": [
        "stats.f_oneway(x1, x2, x3)"
      ],
      "metadata": {
        "colab": {
          "base_uri": "https://localhost:8080/"
        },
        "id": "yCxdb9zUz7yu",
        "outputId": "e5ad06f4-8283-4347-e951-e939bbdc17bf"
      },
      "execution_count": 9,
      "outputs": [
        {
          "output_type": "execute_result",
          "data": {
            "text/plain": [
              "F_onewayResult(statistic=5.500053450812596, pvalue=0.010482206918698694)"
            ]
          },
          "metadata": {},
          "execution_count": 9
        }
      ]
    },
    {
      "cell_type": "markdown",
      "source": [
        "Так как pvalue менее 0,05, принимаем альтернативную гипотезу, т.е. есть различия в среднем росте футболистов, хоккеистов и штангистов."
      ],
      "metadata": {
        "id": "AjzfaM4c1Lk1"
      }
    }
  ]
}